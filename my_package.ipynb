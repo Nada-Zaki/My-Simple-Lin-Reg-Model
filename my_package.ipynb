{
 "cells": [
  {
   "cell_type": "code",
   "execution_count": 19,
   "metadata": {},
   "outputs": [
    {
     "name": "stdout",
     "output_type": "stream",
     "text": [
      "Overwriting my_simple_lin_reg.py\n"
     ]
    }
   ],
   "source": [
    "%%writefile my_simple_lin_reg.py\n",
    "class my_lin_reg_model:\n",
    "    def __init__(self, x, y):\n",
    "        self.x = x\n",
    "        self.y = y\n",
    "        \n",
    "    def TrainTestSplitter(self, split_ratio):\n",
    "        self.split_ratio = split_ratio\n",
    "        self.key=int((1-self.split_ratio)*len(self.x))\n",
    "        print(self.key)\n",
    "        self.x_train=self.x[:self.key]\n",
    "        self.x_test=self.x[self.key:]\n",
    "        self.y_train=self.y[:self.key]\n",
    "        self.y_test=self.y[self.key:]\n",
    "        return self.x_train, self.x_test , self.y_train ,self.y_test \n",
    "\n",
    "\n",
    "    def StandardScalertransform(self, X):\n",
    "        self.X = X\n",
    "        import numpy as np\n",
    "        self.mean_x = (np.sum(self.X))/len(self.X)**2\n",
    "        self.std_x = (np.sum((self.X-self.mean_x)**2)/len(self.X)**2)**0.5\n",
    "        return (self.X - self.mean_x)/self.std_x\n",
    "    \n",
    "    def minMaxScaler(self, X):\n",
    "        return (self.X - self.X.min())/(self.X.max() - self.X.min())\n",
    "        \n",
    "    def coefficents(self):\n",
    "        # hint Call Your Previous Functions over Here \n",
    "        #B1 = covariance(x_values, y_values, x_mean, y_mean) / Variance(x_values, x_mean)\n",
    "        #B0 = y_mean - B1 * x_mean \n",
    "        self.x_mean = sum(self.x)/len(self.x)\n",
    "        self.y_mean = sum(self.y)/len(self.y)\n",
    "        self.variance = sum((self.x - self.x_mean)**2)/len(self.x)\n",
    "        self.covariance = sum((self.x - self.x_mean)*(self.y - self.y_mean))/len(self.x)\n",
    "        self.B1 = self.covariance/self.variance\n",
    "        self.B0 = self.y_mean - self.B1 * self.x_mean\n",
    "        return (self.B0, self.B1)\n",
    "    \n",
    "    def SimpleLinearRegression(self):\n",
    "        # hint call the Previous Function\n",
    "        self.X_train, self.X_test, self.y_train, self.y_test = self.TrainTestSplitter(self.split_ratio)\n",
    "        self.B0, self.B1 = self.coefficents()\n",
    "        self.y_pred = self.B0 + self.B1*self.X_test\n",
    "        return self.y_pred\n",
    "    \n",
    "    def Evaluate (self):\n",
    "        self.y_pred = self.SimpleLinearRegression()\n",
    "        self.X_train, self.X_test, self.y_train, self.y_test = self.TrainTestSplitter(self.split_ratio)\n",
    "        self.error = sum((self.y_test-self.y_pred)**2)/len(self.y_test)\n",
    "        return self.error"
   ]
  }
 ],
 "metadata": {
  "kernelspec": {
   "display_name": "Python 3",
   "language": "python",
   "name": "python3"
  },
  "language_info": {
   "codemirror_mode": {
    "name": "ipython",
    "version": 3
   },
   "file_extension": ".py",
   "mimetype": "text/x-python",
   "name": "python",
   "nbconvert_exporter": "python",
   "pygments_lexer": "ipython3",
   "version": "3.7.3"
  }
 },
 "nbformat": 4,
 "nbformat_minor": 2
}
